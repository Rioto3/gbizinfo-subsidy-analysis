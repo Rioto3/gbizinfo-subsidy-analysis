{
  "cells": [
    {
      "cell_type": "markdown",
      "metadata": {
        "id": "view-in-github",
        "colab_type": "text"
      },
      "source": [
        "<a href=\"https://colab.research.google.com/github/Rioto3/gbizinfo-subsidy-analysis/blob/main/gbizinfo_miyagi.ipynb\" target=\"_parent\"><img src=\"https://colab.research.google.com/assets/colab-badge.svg\" alt=\"Open In Colab\"/></a>"
      ]
    },
    {
      "cell_type": "markdown",
      "metadata": {
        "id": "jZwKSilA11Zw"
      },
      "source": [
        "# gBizINFO APIを用いた補助金データ分析パイプライン\n",
        "\n",
        "このノートブックでは、gBizINFO APIから宮城県の過去の補助金データを収集し、「既得権益の可視化」に向けた分析を実施します。特に補助金受給回数に着目した統計分析を通じて、農業分野における構造的な補助金依存の実態を明らかにすることが目的です。\n",
        "\n",
        "**なおこのノートブックの目的と範囲は、データ分析において有意なCSVの作成までとします。**\n",
        "\n",
        "[参考：gBizINFO API](https://info.gbiz.go.jp/api/index.html)"
      ]
    },
    {
      "cell_type": "markdown",
      "metadata": {
        "id": "BedQGCAL11Zx"
      },
      "source": [
        "\n",
        "**最終的なテーブル**のイメージ\n",
        "（このテーブルを作ることで、受領回数から傾向を考察できる状態を目指す）：\n",
        "\n",
        "| 企業ID | 企業名  | 所在地 | 補助金受領回数 |\n",
        "|--------|--------|--------|----------------|\n",
        "| 3      | 企業C  | 宮城県 | 3              |\n",
        "| 1      | 企業A  | 宮城県 | 2              |\n",
        "| 2      | 企業B  | 宮城県 | 1              |\n",
        "| 4      | 企業D  | 宮城県 | 1              |\n"
      ]
    },
    {
      "cell_type": "markdown",
      "metadata": {
        "id": "hMdTdVSu11Zx"
      },
      "source": [
        "## データソース\n",
        "\n",
        "簡単なgBizINFO APIコードを示して、利用の可能性を明らかにする"
      ]
    },
    {
      "cell_type": "code",
      "execution_count": null,
      "metadata": {
        "id": "H5zZuIAY11Zx"
      },
      "outputs": [],
      "source": [
        "# APIの基本設定\n",
        "API_TOKEN = \"YOUR_API_TOKEN\"  # 実際のAPIトークンに置き換えてください\n",
        "BASE_URL = \"https://info.gbiz.go.jp/hojin\" # gBizINFO REST API エンドポイント\n",
        "HEADERS={\n",
        "    'accept': 'application/json',\n",
        "    'X-hojinInfo-api-token': API_TOKEN\n",
        "}"
      ]
    },
    {
      "cell_type": "markdown",
      "metadata": {
        "id": "u4FhBDfJ11Zz"
      },
      "source": [
        "### GET /v1/hojin/{corporate_number}\n",
        "gBizINFOに登録された法人の検索"
      ]
    },
    {
      "cell_type": "code",
      "execution_count": null,
      "metadata": {
        "id": "8wSWhydE11Zz"
      },
      "outputs": [],
      "source": [
        "import requests\n",
        "from pprint import pprint\n",
        "\n",
        "response = requests.get(\n",
        "    f\"{BASE_URL}/v1/hojin\", headers=HEADERS,\n",
        "    params={\n",
        "        'prefecture': '04', # 宮城県に限定\n",
        "        'exist_flg': 'true', # 法人活動情報があるものに限定\n",
        "        'source': '4', # 出典元で、補助金に関係するものに限定\n",
        "        'limit': '1', # 1ページに含める件数\n",
        "        'page': '1', # ページ番号を1ページ目に限定\n",
        "    }\n",
        ")\n",
        "\n",
        "pprint(response.json())"
      ]
    },
    {
      "cell_type": "markdown",
      "metadata": {
        "id": "kXSaU-DE11Zz"
      },
      "source": [
        "### GET /v1/hojin/{corporate_number}/subsidy\n",
        "特定の法人の補助金情報の検索"
      ]
    },
    {
      "cell_type": "code",
      "execution_count": null,
      "metadata": {
        "id": "2Z1wH38g11Zz"
      },
      "outputs": [],
      "source": [
        "corporate_number = \"1000020042021\" # 上記で得られた法人のIDを入力とします\n",
        "\n",
        "response = requests.get(\n",
        "  f'{BASE_URL}/v1/hojin/{corporate_number}/subsidy', headers=HEADERS,\n",
        ")\n",
        "pprint(response.json())"
      ]
    },
    {
      "cell_type": "markdown",
      "metadata": {
        "id": "dGx_tB9u11Zz"
      },
      "source": [
        "## データベース設計\n",
        "\n",
        "上記のAPIの結果を保存するDBを用意\n",
        "APIの特性上、補助金データの取得には法人IDが必要となること、から法人テーブルを用意する必要がある。\n",
        "また、補助金データには法人名が直接記載がないため、法人IDを外部キーとして、法人データから外部結合する方針にする。"
      ]
    },
    {
      "cell_type": "markdown",
      "metadata": {
        "id": "EPD2HH6u11Z0"
      },
      "source": [
        "### テーブル定義"
      ]
    },
    {
      "cell_type": "code",
      "execution_count": null,
      "metadata": {
        "id": "TJTseKY411Z0"
      },
      "outputs": [],
      "source": [
        "from sqlalchemy import create_engine, Column, String, Integer, Date, ForeignKey\n",
        "from sqlalchemy.orm import relationship\n",
        "from sqlalchemy.ext.declarative import declarative_base\n",
        "\n",
        "# データベースエンジンの作成（SQLiteを使用）\n",
        "DATABASE_URL = 'sqlite:///./gbizinfo_miyagi.sqlite3'\n",
        "engine = create_engine(DATABASE_URL, echo=True)\n",
        "Base = declarative_base()\n",
        "\n",
        "# 宮城県法人テーブルの定義\n",
        "class MiyagiCompanies(Base):\n",
        "    __tablename__ = 'companies'\n",
        "\n",
        "    corporate_number = Column(String, primary_key=True)\n",
        "    name = Column(String)\n",
        "    location = Column(String)\n",
        "\n",
        "# 宮城県補助金テーブルの定義\n",
        "class MiyagiSubsidies(Base):\n",
        "    __tablename__ = 'subsidies'\n",
        "\n",
        "    id = Column(Integer, primary_key=True, autoincrement=True)\n",
        "    corporate_number = Column(String, ForeignKey('companies.corporate_number'))\n",
        "    subsidy_title = Column(String)\n",
        "    amount = Column(Integer)\n",
        "    date_of_approval = Column(Date)\n",
        "    government_department = Column(String)\n",
        "    target = Column(String)\n",
        "    fiscal_year = Column(String)\n",
        "\n",
        "    company = relationship('MiyagiCompanies', backref='subsidies')\n"
      ]
    },
    {
      "cell_type": "markdown",
      "metadata": {
        "id": "dcvVuVOX11Z1"
      },
      "source": [
        "## データ収集"
      ]
    },
    {
      "cell_type": "markdown",
      "metadata": {
        "id": "dN7xVKtQ11Z1"
      },
      "source": [
        "### テーブルの作成"
      ]
    },
    {
      "cell_type": "code",
      "execution_count": null,
      "metadata": {
        "id": "GE--xyWP11Z1"
      },
      "outputs": [],
      "source": [
        "Base.metadata.create_all(engine)"
      ]
    },
    {
      "cell_type": "markdown",
      "metadata": {
        "id": "KYzHnz1411Z1"
      },
      "source": [
        "### 1.法人データ収集"
      ]
    },
    {
      "cell_type": "code",
      "execution_count": null,
      "metadata": {
        "id": "qHe_gGXy11Z1"
      },
      "outputs": [],
      "source": [
        "import requests\n",
        "from sqlalchemy.ext.declarative import declarative_base\n",
        "from sqlalchemy.orm import sessionmaker\n",
        "from sqlalchemy import exists\n",
        "\n",
        "# データベース設定\n",
        "Session = sessionmaker(bind=engine)\n",
        "session = Session()\n",
        "Base = declarative_base()\n",
        "\n",
        "# データ取得＆DB保存\n",
        "for page in range(1, 11):  # page=1 から page=10（APIの仕様の最大値） まで\n",
        "    response = requests.get(\n",
        "        f\"{BASE_URL}/v1/hojin\", headers=HEADERS,\n",
        "        params={\n",
        "            'prefecture': '04',\n",
        "            'exist_flg': 'true',\n",
        "            'source': '4',\n",
        "            'page': page,\n",
        "            'limit': 5000, # APIの仕様の最大値を設定し、最大数の結果取得を目指す\n",
        "        }\n",
        "    )\n",
        "\n",
        "    if response.status_code != 200:\n",
        "        print(f\"エラー: {response.status_code}\")\n",
        "        continue\n",
        "\n",
        "    data = response.json()\n",
        "\n",
        "    for company in data.get('hojin-infos', []):\n",
        "        # 企業の法人番号がすでにDBに存在するか確認\n",
        "        exists_check = session.query(exists().where(MiyagiCompanies.corporate_number == company.get('corporate_number'))).scalar()\n",
        "\n",
        "        if not exists_check:\n",
        "            new_company = MiyagiCompanies(\n",
        "                corporate_number=company.get('corporate_number'),\n",
        "                name=company.get('name'),\n",
        "                location=company.get('location')\n",
        "            )\n",
        "            session.add(new_company)\n",
        "            print(f\"新しい企業データを保存しました: {company.get('corporate_number')}\")\n",
        "        else:\n",
        "            print(f\"重複企業（法人番号: {company.get('corporate_number')}）はスキップしました\")\n",
        "\n",
        "    session.commit()  # 取得したデータをコミット\n",
        "    print(f\"Page {page} のデータを保存しました\")\n",
        "\n",
        "print(\"データ取得完了！\")\n"
      ]
    },
    {
      "cell_type": "markdown",
      "metadata": {
        "id": "oSn9j0Vg11Z2"
      },
      "source": [
        "### 2.補助金のデータ収集"
      ]
    },
    {
      "cell_type": "code",
      "execution_count": null,
      "metadata": {
        "id": "a3RDoGth11Z2"
      },
      "outputs": [],
      "source": [
        "import requests\n",
        "from datetime import datetime\n",
        "from sqlalchemy.orm import sessionmaker\n",
        "from sqlalchemy import create_engine\n",
        "\n",
        "# データベース接続\n",
        "engine = create_engine(DATABASE_URL)\n",
        "Session = sessionmaker(bind=engine)\n",
        "session = Session()\n",
        "\n",
        "\n",
        "def get_fiscal_year(date_str):\n",
        "    \"\"\"日付から年度を計算\"\"\"\n",
        "    date = datetime.strptime(date_str, '%Y-%m-%d').date()\n",
        "    return str(date.year) if date.month >= 4 else str(date.year - 1)\n",
        "\n",
        "\n",
        "# 企業リストを取得\n",
        "companies = session.query(MiyagiCompanies).all()\n",
        "\n",
        "\n",
        "for company in companies:\n",
        "    corporate_number = company.corporate_number\n",
        "    response = requests.get(f'{BASE_URL}/v1/hojin/{corporate_number}/subsidy', headers=HEADERS)\n",
        "\n",
        "    if response.status_code == 200:\n",
        "        data = response.json()\n",
        "        hojin_infos = data.get(\"hojin-infos\", [])\n",
        "\n",
        "        if hojin_infos:\n",
        "            subsidies = hojin_infos[0].get(\"subsidy\", [])\n",
        "\n",
        "            for sub in subsidies:\n",
        "                date_of_approval = sub.get(\"date_of_approval\")\n",
        "\n",
        "                if date_of_approval:\n",
        "                    date = datetime.strptime(date_of_approval, '%Y-%m-%d').date()\n",
        "                    fiscal_year = get_fiscal_year(date_of_approval)\n",
        "\n",
        "                    subsidy_record = MiyagiSubsidies(\n",
        "                        corporate_number=corporate_number,\n",
        "                        subsidy_title=sub.get(\"title\"),\n",
        "                        amount=int(sub.get(\"amount\") or 0),\n",
        "                        date_of_approval=date,\n",
        "                        government_department=sub.get(\"government_departments\"),\n",
        "                        target=sub.get(\"target\"),\n",
        "                        fiscal_year=fiscal_year\n",
        "                    )\n",
        "                    session.add(subsidy_record)  # データの追加を忘れずに\n",
        "    else:\n",
        "        print(f\"Error fetching data for {corporate_number}: {response.status_code}\")\n",
        "\n",
        "session.commit()  # 重要: すべてのデータをコミット\n",
        "session.close()\n",
        "print(\"補助金データの取得＆保存完了！\")\n"
      ]
    },
    {
      "cell_type": "markdown",
      "metadata": {
        "id": "L0EQVFAZ11Z2"
      },
      "source": [
        "## データ品質検証"
      ]
    },
    {
      "cell_type": "code",
      "execution_count": null,
      "metadata": {
        "id": "Q2dAxwLb11Z2"
      },
      "outputs": [],
      "source": [
        "import pandas as pd\n",
        "from sqlalchemy.orm import sessionmaker\n",
        "from sqlalchemy import create_engine\n",
        "\n",
        "# データベース接続\n",
        "engine = create_engine(DATABASE_URL)\n",
        "Session = sessionmaker(bind=engine)\n",
        "session = Session()\n",
        "\n",
        "def query_to_dataframe(model):\n",
        "    \"\"\"SQLAlchemyのモデルをDataFrameに変換する\"\"\"\n",
        "    df = pd.DataFrame([record.__dict__ for record in session.query(model).all()])\n",
        "    df.drop(columns=['_sa_instance_state'], errors='ignore', inplace=True)\n",
        "    return df\n",
        "\n",
        "# 各テーブルのデータを取得してDataFrame化(セッションをリスタートした場合、データベース設計のセルを再実行してください。)\n",
        "df_subsidies = query_to_dataframe(MiyagiSubsidies)\n",
        "df_companies = query_to_dataframe(MiyagiCompanies)\n",
        "\n",
        "session.close()\n"
      ]
    },
    {
      "cell_type": "markdown",
      "metadata": {
        "id": "8-vLbKgy11Z2"
      },
      "source": [
        "### 統計情報の確認"
      ]
    },
    {
      "cell_type": "markdown",
      "metadata": {
        "id": "fH-b67k511Z2"
      },
      "source": [
        "補助金データ基本情報"
      ]
    },
    {
      "cell_type": "code",
      "execution_count": null,
      "metadata": {
        "id": "Sl5QqpIE11Z2"
      },
      "outputs": [],
      "source": [
        "df_companies.info()"
      ]
    },
    {
      "cell_type": "code",
      "execution_count": null,
      "metadata": {
        "id": "nntazp4T11Z2"
      },
      "outputs": [],
      "source": [
        "df_subsidies.info()"
      ]
    },
    {
      "cell_type": "markdown",
      "metadata": {
        "id": "tGUJNNr511Z2"
      },
      "source": [
        "基本統計量"
      ]
    },
    {
      "cell_type": "code",
      "execution_count": null,
      "metadata": {
        "id": "MefsSSHT11Z2"
      },
      "outputs": [],
      "source": [
        "df_subsidies.describe()"
      ]
    },
    {
      "cell_type": "markdown",
      "metadata": {
        "id": "v9EGcY7U11Z2"
      },
      "source": [
        "欠損値の数"
      ]
    },
    {
      "cell_type": "code",
      "execution_count": null,
      "metadata": {
        "id": "_pTve2zo11Z2"
      },
      "outputs": [],
      "source": [
        "df_subsidies.isnull().sum()"
      ]
    },
    {
      "cell_type": "markdown",
      "metadata": {
        "id": "w35ziLKm11Z3"
      },
      "source": [
        "重複レコード数"
      ]
    },
    {
      "cell_type": "code",
      "execution_count": null,
      "metadata": {
        "id": "3vd_pMfy11Z3"
      },
      "outputs": [],
      "source": [
        "df_companies.duplicated().sum()"
      ]
    },
    {
      "cell_type": "code",
      "execution_count": null,
      "metadata": {
        "id": "Vxn1mlpS11Z3"
      },
      "outputs": [],
      "source": [
        "df_subsidies.duplicated().sum()"
      ]
    },
    {
      "cell_type": "markdown",
      "metadata": {
        "id": "-01z7dzA11Z3"
      },
      "source": [
        "上位データのチェック"
      ]
    },
    {
      "cell_type": "code",
      "execution_count": null,
      "metadata": {
        "id": "XGM1uduf11Z3"
      },
      "outputs": [],
      "source": [
        "df_companies.head()"
      ]
    },
    {
      "cell_type": "code",
      "execution_count": null,
      "metadata": {
        "id": "Mt78PzLL11Z3"
      },
      "outputs": [],
      "source": [
        "df_subsidies.head()"
      ]
    },
    {
      "cell_type": "markdown",
      "metadata": {
        "id": "USIpDnch11Z4"
      },
      "source": [
        "## データ分析"
      ]
    },
    {
      "cell_type": "markdown",
      "metadata": {
        "id": "zFPXSUtm11Z4"
      },
      "source": [
        "先に法人データ結合"
      ]
    },
    {
      "cell_type": "code",
      "execution_count": null,
      "metadata": {
        "id": "kF57hhSn11Z4"
      },
      "outputs": [],
      "source": [
        "df_merge = df_subsidies.merge(df_companies, on='corporate_number', how='left')"
      ]
    },
    {
      "cell_type": "markdown",
      "metadata": {
        "id": "35eJUJBf11Z4"
      },
      "source": [
        "補助金テーブル(法人名付き)の完成"
      ]
    },
    {
      "cell_type": "code",
      "execution_count": null,
      "metadata": {
        "id": "rCOofTDi11Z4"
      },
      "outputs": [],
      "source": [
        "df_subsidies_with_name = df_merge[['corporate_number','name','subsidy_title','amount','date_of_approval']]\n",
        "df_subsidies_with_name = df_subsidies_with_name.sort_values('corporate_number')\n",
        "df_subsidies_with_name.to_csv(\"miyagi_subsidies.csv\", index=\"false\")\n",
        "df_subsidies_with_name.head()"
      ]
    },
    {
      "cell_type": "markdown",
      "metadata": {
        "id": "EKQH432T11Z4"
      },
      "source": [
        "補助金の回数テーブルの完成"
      ]
    },
    {
      "cell_type": "code",
      "execution_count": null,
      "metadata": {
        "id": "TP7HLc2A11Z4"
      },
      "outputs": [],
      "source": [
        "df_subsidies_count =df_subsidies_with_name.groupby('corporate_number').agg(\n",
        "    name=('name','first'),\n",
        "    subsidy_count=('name', 'count'), # カウント\n",
        "    total_amount=('amount', 'sum'),  # 合計金額を集計\n",
        ").reset_index().rename(columns={'subsidy_count': 'subsidy_count', 'total_amount':'total_amount'})\n",
        "\n",
        "df_subsidies_count = df_subsidies_count.sort_values(['subsidy_count', 'total_amount'], ascending=[False, False])\n",
        "df_subsidies_count = df_subsidies_count.sort_values('total_amount', ascending=False)\n",
        "\n",
        "df_subsidies_count.to_csv(\"miyagi_subsidies_count.csv\", index=\"false\")\n",
        "df_subsidies_count.head()\n"
      ]
    },
    {
      "cell_type": "markdown",
      "metadata": {
        "id": "OtMJUGkC11Z4"
      },
      "source": [
        "簡単な可視化"
      ]
    },
    {
      "cell_type": "code",
      "execution_count": null,
      "metadata": {
        "id": "0EMawXR511Z4"
      },
      "outputs": [],
      "source": [
        "import matplotlib.pyplot as plt\n",
        "import seaborn as sns\n",
        "\n",
        "plt.figure(figsize=(12, 6))\n",
        "sns.scatterplot(x=range(len(df_subsidies_count)), y=df_subsidies_count[\"subsidy_count\"], color=\"blue\", alpha=0.7)\n",
        "\n",
        "plt.xlabel(\"Company Index\")\n",
        "plt.ylabel(\"Subsidy Count\")\n",
        "plt.title(\"Distribution of Subsidy Count\")\n",
        "\n",
        "plt.grid(True, linestyle=\"--\", alpha=0.5)\n",
        "\n",
        "plt.show()"
      ]
    },
    {
      "cell_type": "markdown",
      "metadata": {
        "id": "nIx1jHRw11Z5"
      },
      "source": [
        "## データセット作成作業の終了：\n",
        "\n",
        "### 得られたデータセット\n",
        "- `miyagi_subsidies.csv`: 補助金データ（法人名付き）\n",
        "- `miyagi_subsidies_count.csv`: 補助金受給回数・総額集計データ\n",
        "\n",
        "### 次のステップ\n",
        "1. 生成AIツールにこれらのCSVをインプット\n",
        "2. 以下の観点から分析を依頼\n",
        "   - 補助金受給回数に着眼した既得権益の構造の客観的分析\n",
        "   - 補助金受給回数**以外**の着眼点の提供と分析\n",
        "\n",
        "### 注意点\n",
        "- 分析結果の解釈には批判的思考が必要"
      ]
    }
  ],
  "metadata": {
    "colab": {
      "provenance": [],
      "include_colab_link": true
    },
    "kernelspec": {
      "display_name": "base",
      "language": "python",
      "name": "python3"
    },
    "language_info": {
      "codemirror_mode": {
        "name": "ipython",
        "version": 3
      },
      "file_extension": ".py",
      "mimetype": "text/x-python",
      "name": "python",
      "nbconvert_exporter": "python",
      "pygments_lexer": "ipython3",
      "version": "3.12.9"
    }
  },
  "nbformat": 4,
  "nbformat_minor": 0
}