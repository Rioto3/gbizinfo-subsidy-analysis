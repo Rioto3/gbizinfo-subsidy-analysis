{
 "cells": [
  {
   "cell_type": "markdown",
   "metadata": {},
   "source": [
    "# gBizINFO API データ品質検証\n",
    "\n",
    "このノートブックでは、経済産業省が提供するgBizINFO APIの**データ品質**を検証します。\n",
    "具体的に以下の点を明らかにします：\n",
    "\n",
    "1. **時間的整合性**: 公開日と実際のデータ更新日の乖離\n",
    "2. **網羅性**: 全省庁のデータが適切に統合されているか\n",
    "3. **年次分布**: 各年のデータ量の偏り（2015-2025年）\n",
    "4. **欠損値**: 重要フィールドの欠損率\n",
    "\n",
    "## 前提条件\n",
    "- APIキーを取得済み\n",
    "- Python 3.9以上\n",
    "- 必要ライブラリ: pandas, numpy, matplotlib, requests\n",
    "\n",
    "## 分析者\n",
    "Rioto3 (@Rioto3)"
   ]
  }
 ],
 "metadata": {
  "language_info": {
   "name": "python"
  }
 },
 "nbformat": 4,
 "nbformat_minor": 2
}
